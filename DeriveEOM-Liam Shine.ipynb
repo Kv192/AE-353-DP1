{
 "cells": [
  {
   "cell_type": "markdown",
   "id": "occasional-george",
   "metadata": {},
   "source": [
    "# Equations of motion for the cat-bot"
   ]
  },
  {
   "cell_type": "markdown",
   "id": "d4cbc89f",
   "metadata": {},
   "source": [
    "Do imports."
   ]
  },
  {
   "cell_type": "code",
   "execution_count": 103,
   "id": "sitting-discount",
   "metadata": {},
   "outputs": [],
   "source": [
    "import sympy as sym\n",
    "import numpy as np\n",
    "from IPython.display import display, Markdown\n",
    "from sympy.physics import mechanics\n",
    "mechanics.init_vprinting()"
   ]
  },
  {
   "cell_type": "markdown",
   "id": "e2bc1e04",
   "metadata": {},
   "source": [
    "Define variables and constants as symbols."
   ]
  },
  {
   "cell_type": "code",
   "execution_count": 121,
   "id": "eb2cd207",
   "metadata": {},
   "outputs": [],
   "source": [
    "# Time\n",
    "t = sym.Symbol('t')\n",
    "\n",
    "# Horizontal position of wheel axle\n",
    "zeta = mechanics.dynamicsymbols('zeta', real=True)\n",
    "\n",
    "# Angle of body from vertical (positive means leaning forward)\n",
    "theta = mechanics.dynamicsymbols('theta', real=True)\n",
    "\n",
    "# Torque applied by the body on the wheel\n",
    "tau = sym.symbols('tau', real=True)\n",
    "\n",
    "# Wheel parameters\n",
    "#   m_w  mass\n",
    "#   J_w  moment of inertia\n",
    "#   r_w  radius\n",
    "m_w, J_w, r_w = sym.symbols('m_w, J_w, r_w', real=True, positive=True)\n",
    "\n",
    "# Body parameters\n",
    "#   m_b  mass\n",
    "#   J_b  moment of inertia (about center-of-mass)\n",
    "#   r_b  distance between wheel axle and body center-of-mass\n",
    "m_b, J_b, r_b = sym.symbols('m_b, J_b, r_b', real=True, positive=True)\n",
    "\n",
    "# Acceleration of gravity\n",
    "g = sym.symbols('g', real=True, positive=True)"
   ]
  },
  {
   "cell_type": "markdown",
   "id": "ac2be7c3",
   "metadata": {},
   "source": [
    "Compute Lagrangian."
   ]
  },
  {
   "cell_type": "code",
   "execution_count": 122,
   "id": "2e55a7b4",
   "metadata": {},
   "outputs": [],
   "source": [
    "# Position of wheel and body\n",
    "p_w = sym.Matrix([zeta, r_w])\n",
    "p_b = sym.Matrix([zeta + r_b * sym.sin(theta), r_w + r_b * sym.cos(theta)])\n",
    "\n",
    "# Linear velocity of wheel and body\n",
    "v_w = p_w.diff(t)\n",
    "v_b = p_b.diff(t)\n",
    "\n",
    "# Angular velocity of wheel (assume rolling without slipping on flat ground) and body\n",
    "omega_w = zeta.diff(t) / r_w\n",
    "omega_b = theta.diff(t)\n",
    "\n",
    "# Kinetic and potential energy\n",
    "T = (m_w * v_w.dot(v_w) + m_b * v_b.dot(v_b) + J_w * omega_w**2 + J_b * omega_b**2) / 2\n",
    "V = (m_w * p_w[1] * g) + (m_b * p_b[1] * g)\n",
    "\n",
    "# Lagrangian\n",
    "L = sym.Matrix([sym.simplify(T - V)])"
   ]
  },
  {
   "cell_type": "markdown",
   "id": "5474ce73",
   "metadata": {},
   "source": [
    "Compute and show the matrices $M(q)$, $N(q, \\dot{q})$, and $F(q)$ for which the equations of motion can be expressed as\n",
    "\n",
    "$$ M(q) \\ddot{q} + N(q, \\dot{q}) = F(q) r $$\n",
    "\n",
    "where\n",
    "\n",
    "$$ q = \\begin{bmatrix} \\zeta \\\\ \\theta \\end{bmatrix} \\qquad\\text{and}\\qquad r = \\begin{bmatrix} \\tau \\end{bmatrix}. $$"
   ]
  },
  {
   "cell_type": "code",
   "execution_count": 123,
   "id": "c9852b1e",
   "metadata": {},
   "outputs": [
    {
     "data": {
      "text/markdown": [
       "$$ M(q) = \\left[\\begin{matrix}\\frac{J_{w}}{r_{w}^{2}} + m_{b} + m_{w} & m_{b} r_{b} \\cos{\\left(\\theta \\right)}\\\\m_{b} r_{b} \\cos{\\left(\\theta \\right)} & J_{b} + m_{b} r_{b}^{2}\\end{matrix}\\right] $$"
      ],
      "text/plain": [
       "<IPython.core.display.Markdown object>"
      ]
     },
     "metadata": {},
     "output_type": "display_data"
    },
    {
     "data": {
      "text/markdown": [
       "$$ N(q, \\dot{q}) = \\left[\\begin{matrix}- m_{b} r_{b} \\sin{\\left(\\theta \\right)} \\dot{\\theta}^{2}\\\\- g m_{b} r_{b} \\sin{\\left(\\theta \\right)}\\end{matrix}\\right] $$"
      ],
      "text/plain": [
       "<IPython.core.display.Markdown object>"
      ]
     },
     "metadata": {},
     "output_type": "display_data"
    },
    {
     "data": {
      "text/markdown": [
       "$$ F(q) = \\left[\\begin{matrix}\\frac{1}{r_{w}}\\\\-1\\end{matrix}\\right] $$"
      ],
      "text/plain": [
       "<IPython.core.display.Markdown object>"
      ]
     },
     "metadata": {},
     "output_type": "display_data"
    }
   ],
   "source": [
    "# Generalized coordinates\n",
    "q = sym.Matrix([zeta, theta])\n",
    "\n",
    "# Generalized velocities\n",
    "v = q.diff(t)\n",
    "\n",
    "# Coefficients in the equations of motion\n",
    "M = sym.simplify(L.jacobian(v).jacobian(v))\n",
    "N = sym.simplify(L.jacobian(v).jacobian(q) @ v - L.jacobian(q).T)\n",
    "F = sym.simplify(sym.Matrix([(zeta / r_w) - theta]).jacobian(q).T)\n",
    "\n",
    "# Show results\n",
    "display(Markdown(f'$$ M(q) = {mechanics.mlatex(M)} $$'))\n",
    "display(Markdown(f'$$ N(q, \\\\dot{{q}}) = {mechanics.mlatex(N)} $$'))\n",
    "display(Markdown(f'$$ F(q) = {mechanics.mlatex(F)} $$'))"
   ]
  },
  {
   "cell_type": "code",
   "execution_count": 129,
   "id": "6ffcda04",
   "metadata": {},
   "outputs": [],
   "source": [
    "# m matrix\n",
    "m = sym.Matrix([q,v])\n",
    "m_dot = m.diff(t)\n",
    "\n",
    "# Torque Matrix\n",
    "n = sym.Matrix([tau])\n",
    "\n",
    "# m_dot = f(m,n) vector\n",
    "f = sym.Matrix([ v , M.inv() @ F @ n - M.inv() @ N ])\n",
    "\n",
    "# finding the A and B matrices for linearization: x_dot = A@x + B@u\n",
    "A_sym = sym.simplify(f.jacobian([m]))\n",
    "B_sym = sym.simplify(f.jacobian([n]))\n",
    "A_num = sym.lambdify((zeta,theta,zeta.diff(t),theta.diff(t),tau,r_w, m_w, J_w, r_b, m_b, J_b, g), A_sym)\n",
    "B_num = sym.lambdify((zeta,theta,zeta.diff(t),theta.diff(t),tau,r_w, m_w, J_w, r_b, m_b, J_b, g), B_sym)\n",
    "A = A_num(0.,0.,0.,0.,0.,.325,2.4,.12675,0.3,12.,.8,9.81)\n",
    "B = B_num(0.,0.,0.,0.,0.,.325,2.4,.12675,0.3,12.,.8,9.81)\n",
    "\n",
    "# Solving for R or [tau]\n",
    "# Rearange m_dot = A@m + B@R --> B@R = m_dot - A@m\n",
    "# R = A_sym @ m - m_dot\n",
    "# R[2] = R[2] / B_sym[2]\n",
    "# R[3] = R[3] / B_sym[3]\n",
    "# R = sym.simplify(R)\n",
    "\n"
   ]
  },
  {
   "cell_type": "code",
   "execution_count": 130,
   "id": "51504a36",
   "metadata": {},
   "outputs": [
    {
     "data": {
      "text/plain": [
       "(array([[ 0.        ,  0.        ,  1.        ,  0.        ],\n",
       "        [ 0.        ,  0.        ,  0.        ,  1.        ],\n",
       "        [ 0.        , -7.76744868,  0.        ,  0.        ],\n",
       "        [ 0.        , 33.65894428,  0.        , -0.        ]]),\n",
       " array([[ 0.        ],\n",
       "        [ 0.        ],\n",
       "        [ 0.57335138],\n",
       "        [-1.62982179]]))"
      ]
     },
     "execution_count": 130,
     "metadata": {},
     "output_type": "execute_result"
    }
   ],
   "source": [
    "A,B"
   ]
  },
  {
   "cell_type": "markdown",
   "id": "0e6572e3",
   "metadata": {},
   "source": [
    "Define and show the numerical value of constants (consistant with the URDF file)."
   ]
  },
  {
   "cell_type": "code",
   "execution_count": 109,
   "id": "d2fcc5aa",
   "metadata": {},
   "outputs": [
    {
     "data": {
      "text/markdown": [
       "$$ \\begin{align*}r_w &= 0.325 \\\\ m_w &= 2.4 \\\\ J_w &= 0.12675 \\\\ r_b &= 0.3 \\\\ m_b &= 12.0 \\\\ J_b &= 0.8 \\\\ g &= 9.81 \\end{align*} $$"
      ],
      "text/plain": [
       "<IPython.core.display.Markdown object>"
      ]
     },
     "metadata": {},
     "output_type": "display_data"
    }
   ],
   "source": [
    "##########################################\n",
    "# Temporary variables that can be ignored\n",
    "\n",
    "# Dimensions of chassis\n",
    "dx = 0.4\n",
    "dy = 0.6\n",
    "dz = 0.8\n",
    "\n",
    "# Distance between axle and COM of chassis\n",
    "h = 0.3\n",
    "\n",
    "# Half-distance between wheels\n",
    "a = 0.7 / 2\n",
    "\n",
    "# Mass of chassis\n",
    "mb = 12.\n",
    "\n",
    "# MOI of chassis\n",
    "Jbx = (mb / 12) * (dy**2 + dz**2)\n",
    "Jby = (mb / 12) * (dx**2 + dz**2)\n",
    "Jbz = (mb / 12) * (dx**2 + dy**2)\n",
    "\n",
    "# Radius of each wheel\n",
    "r = 0.325\n",
    "\n",
    "# Width of each wheel\n",
    "hw = 0.075\n",
    "\n",
    "# Mass of each wheel\n",
    "mw = 1.2\n",
    "\n",
    "# MOI of each wheel\n",
    "Jw = (mw / 2) * r**2\n",
    "Jwt = (mw / 12) * (3 * r**2 + hw**2)\n",
    "\n",
    "# Total mass\n",
    "m = mb + 2 * mw\n",
    "\n",
    "# Total MOI\n",
    "Jx = Jbx + 2 * Jwt\n",
    "Jy = Jby\n",
    "Jz = Jbz + 2 * Jwt\n",
    "\n",
    "##########################################\n",
    "# Parameters\n",
    "\n",
    "# Define them\n",
    "params = {\n",
    "    r_w: r,\n",
    "    m_w: 2 * mw,\n",
    "    J_w: 2 * Jw,\n",
    "    r_b: h,\n",
    "    m_b: mb,\n",
    "    J_b: Jby,\n",
    "    g: 9.81,\n",
    "}\n",
    "\n",
    "# Show them\n",
    "s = ''\n",
    "for key, val in params.items():\n",
    "    s += fr'{key} &= {mechanics.mlatex(val)} \\\\ '\n",
    "s = s[:-3]\n",
    "display(Markdown(fr'$$ \\begin{{align*}}{s}\\end{{align*}} $$'))"
   ]
  },
  {
   "cell_type": "code",
   "execution_count": null,
   "id": "33a0bd1e",
   "metadata": {},
   "outputs": [],
   "source": [
    "# f_num = sym.lambdify([q, v, tau], f)\n",
    "# f_num(q_e, v_e, tau_e)\n",
    "\n",
    "# M_num = sym.lambdify([theta,r_w, m_w, J_w, r_b, m_b, J_b, g], M)\n",
    "# N_num = sym.lambdify([zeta, theta, zeta.diff(t), theta.diff(t), r_w, m_w, J_w, r_b, m_b, J_b, g], N)\n",
    "# F_num = sym.lambdify([r_w], F)\n",
    "# zeta_e, theta_e = sym.symbols('zeta_e, theta_e')\n",
    "# M_num(1,1,1,1,1,1,11,1,1,1,1) , N_num(1,1,1,1,1,1,1,1,1,1,1) , F_num(1,1,1,1,1,1,1,1,1,1,1)"
   ]
  },
  {
   "cell_type": "code",
   "execution_count": 116,
   "id": "cd03c9e1",
   "metadata": {},
   "outputs": [],
   "source": [
    "rw = r\n",
    "mw = 2 * mw\n",
    "Jw = 2 * Jw\n",
    "rb = h\n",
    "mb = mb\n",
    "Jb = Jby\n",
    "g  = 9.81\n",
    "\n",
    "M = sym.Matrix([ [ Jw / (rw**2) + mb + mw , mb*rb*sym.cos(theta) ] ,\n",
    "                 [ mb*rb*sym.cos(theta)   , Jb + mb*(rb**2)      ] ])\n",
    "N = sym.Matrix([ [ -mb*rb*sym.sin(theta)*(theta.diff(t)**2) ] ,\n",
    "                 [ -g*mb*rb*sym.sin(theta)                  ] ])\n",
    "F = sym.Matrix([ 1/rw , -1 ])"
   ]
  },
  {
   "cell_type": "code",
   "execution_count": 120,
   "id": "08c9bf6c",
   "metadata": {},
   "outputs": [
    {
     "data": {
      "text/latex": [
       "$\\displaystyle \\left( \\left[\\begin{matrix}0 & 0 & 1 & 0\\\\0 & 0 & 0 & 1\\\\0 & \\frac{1.19306717673448 \\left(- 0.00440553821187624 \\left(12.96 \\cos^{2}{\\left(\\theta \\right)} - 76.704\\right) \\left(\\tau \\left(3.6 \\cos{\\left(\\theta \\right)} + 5.78461538461538\\right) + 6.768 \\sin{\\left(\\theta \\right)} \\dot{\\theta}^{2} - 63.5688 \\sin{\\left(2 \\theta \\right)}\\right) \\sin{\\left(\\theta \\right)} \\cos{\\left(\\theta \\right)} + 0.838175770401362 \\left(0.0922761449077239 \\cos{\\left(2 \\theta \\right)} - 1\\right)^{2} \\left(3.6 \\tau \\sin{\\left(\\theta \\right)} - 6.768 \\cos{\\left(\\theta \\right)} \\dot{\\theta}^{2} + 127.1376 \\cos{\\left(2 \\theta \\right)}\\right)\\right)}{\\left(12.96 \\cos^{2}{\\left(\\theta \\right)} - 76.704\\right) \\left(0.0922761449077239 \\cos{\\left(2 \\theta \\right)} - 1\\right)^{2}} & 0 & - \\frac{13.536 \\sin{\\left(\\theta \\right)} \\dot{\\theta}}{12.96 \\cos^{2}{\\left(\\theta \\right)} - 76.704}\\\\0 & \\frac{1.19306717673448 \\left(0.00440553821187624 \\left(12.96 \\cos^{2}{\\left(\\theta \\right)} - 76.704\\right) \\left(\\tau \\left(11.0769230769231 \\cos{\\left(\\theta \\right)} + 40.8\\right) - 1440.8928 \\sin{\\left(\\theta \\right)} + 6.48 \\sin{\\left(2 \\theta \\right)} \\dot{\\theta}^{2}\\right) \\sin{\\left(\\theta \\right)} \\cos{\\left(\\theta \\right)} + 0.838175770401362 \\left(0.0922761449077239 \\cos{\\left(2 \\theta \\right)} - 1\\right)^{2} \\left(- 11.0769230769231 \\tau \\sin{\\left(\\theta \\right)} - 1440.8928 \\cos{\\left(\\theta \\right)} + 12.96 \\cos{\\left(2 \\theta \\right)} \\dot{\\theta}^{2}\\right)\\right)}{\\left(12.96 \\cos^{2}{\\left(\\theta \\right)} - 76.704\\right) \\left(0.0922761449077239 \\cos{\\left(2 \\theta \\right)} - 1\\right)^{2}} & 0 & \\frac{12.96 \\sin{\\left(2 \\theta \\right)} \\dot{\\theta}}{12.96 \\cos^{2}{\\left(\\theta \\right)} - 76.704}\\end{matrix}\\right], \\  \\left[\\begin{matrix}0\\\\0\\\\- \\frac{3.6 \\cos{\\left(\\theta \\right)} + 5.78461538461538}{12.96 \\cos^{2}{\\left(\\theta \\right)} - 76.704}\\\\\\frac{11.0769230769231 \\cos{\\left(\\theta \\right)} + 40.8}{12.96 \\cos^{2}{\\left(\\theta \\right)} - 76.704}\\end{matrix}\\right]\\right)$"
      ],
      "text/plain": [
       "⎛⎡0                                                                            ↪\n",
       "⎜⎢                                                                             ↪\n",
       "⎜⎢0                                                                            ↪\n",
       "⎜⎢                                                                             ↪\n",
       "⎜⎢                           ⎛                      ⎛         2            ⎞ ⎛ ↪\n",
       "⎜⎢          1.19306717673448⋅⎝- 0.00440553821187624⋅⎝12.96⋅cos (θ) - 76.704⎠⋅⎝ ↪\n",
       "⎜⎢0         ────────────────────────────────────────────────────────────────── ↪\n",
       "⎜⎢                                                                             ↪\n",
       "⎜⎢                                                                             ↪\n",
       "⎜⎢                                                                             ↪\n",
       "⎜⎢                    ⎛                    ⎛         2            ⎞ ⎛          ↪\n",
       "⎜⎢   1.19306717673448⋅⎝0.00440553821187624⋅⎝12.96⋅cos (θ) - 76.704⎠⋅⎝τ⋅(11.076 ↪\n",
       "⎜⎢0  ───────────────────────────────────────────────────────────────────────── ↪\n",
       "⎜⎢                                                                             ↪\n",
       "⎝⎣                                                                             ↪\n",
       "\n",
       "↪                                                                 0            ↪\n",
       "↪                                                                              ↪\n",
       "↪                                                                 0            ↪\n",
       "↪                                                                              ↪\n",
       "↪                                                   2                   ⎞      ↪\n",
       "↪ τ⋅(3.6⋅cos(θ) + 5.78461538461538) + 6.768⋅sin(θ)⋅θ̇  - 63.5688⋅sin(2⋅θ)⎠⋅sin( ↪\n",
       "↪ ──────────────────────────────────────────────────────────────────────────── ↪\n",
       "↪                                   ⎛         2            ⎞                   ↪\n",
       "↪                                   ⎝12.96⋅cos (θ) - 76.704⎠⋅(0.09227614490772 ↪\n",
       "↪                                                                              ↪\n",
       "↪                                                               2⎞             ↪\n",
       "↪ 9230769231⋅cos(θ) + 40.8) - 1440.8928⋅sin(θ) + 6.48⋅sin(2⋅θ)⋅θ̇ ⎠⋅sin(θ)⋅cos( ↪\n",
       "↪ ──────────────────────────────────────────────────────────────────────────── ↪\n",
       "↪                                    ⎛         2            ⎞                  ↪\n",
       "↪                                    ⎝12.96⋅cos (θ) - 76.704⎠⋅(0.0922761449077 ↪\n",
       "\n",
       "↪                                                                              ↪\n",
       "↪                                                                              ↪\n",
       "↪                                                                              ↪\n",
       "↪                                                                              ↪\n",
       "↪                                                                2 ⎛           ↪\n",
       "↪ θ)⋅cos(θ) + 0.838175770401362⋅(0.0922761449077239⋅cos(2⋅θ) - 1) ⋅⎝3.6⋅τ⋅sin( ↪\n",
       "↪ ──────────────────────────────────────────────────────────────────────────── ↪\n",
       "↪                 2                                                            ↪\n",
       "↪ 39⋅cos(2⋅θ) - 1)                                                             ↪\n",
       "↪                                                                              ↪\n",
       "↪                                                         2 ⎛                  ↪\n",
       "↪ θ) + 0.838175770401362⋅(0.0922761449077239⋅cos(2⋅θ) - 1) ⋅⎝-11.0769230769231 ↪\n",
       "↪ ──────────────────────────────────────────────────────────────────────────── ↪\n",
       "↪                  2                                                           ↪\n",
       "↪ 239⋅cos(2⋅θ) - 1)                                                            ↪\n",
       "\n",
       "↪                                                     1            0           ↪\n",
       "↪                                                                              ↪\n",
       "↪                                                     0            1           ↪\n",
       "↪                                                                              ↪\n",
       "↪                    2                    ⎞⎞                                   ↪\n",
       "↪ θ) - 6.768⋅cos(θ)⋅θ̇  + 127.1376⋅cos(2⋅θ)⎠⎠               -13.536⋅sin(θ)⋅θ̇    ↪\n",
       "↪ ──────────────────────────────────────────          0  ───────────────────── ↪\n",
       "↪                                                                 2            ↪\n",
       "↪                                                        12.96⋅cos (θ) - 76.70 ↪\n",
       "↪                                                                              ↪\n",
       "↪                                                2⎞⎞                           ↪\n",
       "↪ ⋅τ⋅sin(θ) - 1440.8928⋅cos(θ) + 12.96⋅cos(2⋅θ)⋅θ̇ ⎠⎠        12.96⋅sin(2⋅θ)⋅θ̇   ↪\n",
       "↪ ──────────────────────────────────────────────────  0  ───────────────────── ↪\n",
       "↪                                                                 2            ↪\n",
       "↪                                                        12.96⋅cos (θ) - 76.70 ↪\n",
       "\n",
       "↪  ⎤                                     ⎞\n",
       "↪  ⎥  ⎡                0                ⎤⎟\n",
       "↪  ⎥  ⎢                                 ⎥⎟\n",
       "↪  ⎥  ⎢                0                ⎥⎟\n",
       "↪  ⎥  ⎢                                 ⎥⎟\n",
       "↪  ⎥  ⎢-(3.6⋅cos(θ) + 5.78461538461538) ⎥⎟\n",
       "↪ ─⎥  ⎢─────────────────────────────────⎥⎟\n",
       "↪  ⎥, ⎢              2                  ⎥⎟\n",
       "↪ 4⎥  ⎢     12.96⋅cos (θ) - 76.704      ⎥⎟\n",
       "↪  ⎥  ⎢                                 ⎥⎟\n",
       "↪  ⎥  ⎢ 11.0769230769231⋅cos(θ) + 40.8  ⎥⎟\n",
       "↪  ⎥  ⎢ ──────────────────────────────  ⎥⎟\n",
       "↪ ─⎥  ⎢              2                  ⎥⎟\n",
       "↪  ⎥  ⎣     12.96⋅cos (θ) - 76.704      ⎦⎟\n",
       "↪ 4⎦                                     ⎠"
      ]
     },
     "execution_count": 120,
     "metadata": {},
     "output_type": "execute_result"
    }
   ],
   "source": [
    "# m matrix\n",
    "m = sym.Matrix([q,v])\n",
    "m_dot = m.diff(t)\n",
    "\n",
    "# Torque Matrix\n",
    "n = sym.Matrix([tau])\n",
    "\n",
    "# m_dot = f(m,n) vector\n",
    "f = sym.simplify(sym.Matrix([ v , M.inv() @ F @ n - M.inv() @ N ]))\n",
    "\n",
    "# finding the A and B matrices for linearization: x_dot = A@x + B@u\n",
    "A_sym = sym.simplify(f.jacobian([m]))\n",
    "B_sym = sym.simplify(f.jacobian([n]))\n",
    "\n",
    "A_sym , B_sym"
   ]
  }
 ],
 "metadata": {
  "kernelspec": {
   "display_name": "ae353",
   "language": "python",
   "name": "python3"
  },
  "language_info": {
   "codemirror_mode": {
    "name": "ipython",
    "version": 3
   },
   "file_extension": ".py",
   "mimetype": "text/x-python",
   "name": "python",
   "nbconvert_exporter": "python",
   "pygments_lexer": "ipython3",
   "version": "3.13.1"
  }
 },
 "nbformat": 4,
 "nbformat_minor": 5
}
